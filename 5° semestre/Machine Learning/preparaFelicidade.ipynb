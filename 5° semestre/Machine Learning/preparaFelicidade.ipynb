{
  "nbformat": 4,
  "nbformat_minor": 0,
  "metadata": {
    "colab": {
      "provenance": []
    },
    "kernelspec": {
      "name": "python3",
      "display_name": "Python 3"
    },
    "language_info": {
      "name": "python"
    }
  },
  "cells": [
    {
      "cell_type": "markdown",
      "source": [
        "# Aula 26/09/25"
      ],
      "metadata": {
        "id": "s0yVk3jC0B-s"
      }
    },
    {
      "cell_type": "code",
      "execution_count": 9,
      "metadata": {
        "colab": {
          "base_uri": "https://localhost:8080/"
        },
        "id": "kWoyKsqsz6ic",
        "outputId": "7b10decf-6e70-4761-da13-b9bd92a1a009"
      },
      "outputs": [
        {
          "output_type": "stream",
          "name": "stdout",
          "text": [
            "Requirement already satisfied: catboost in /usr/local/lib/python3.12/dist-packages (1.2.8)\n",
            "Requirement already satisfied: graphviz in /usr/local/lib/python3.12/dist-packages (from catboost) (0.21)\n",
            "Requirement already satisfied: matplotlib in /usr/local/lib/python3.12/dist-packages (from catboost) (3.10.0)\n",
            "Requirement already satisfied: numpy<3.0,>=1.16.0 in /usr/local/lib/python3.12/dist-packages (from catboost) (2.0.2)\n",
            "Requirement already satisfied: pandas>=0.24 in /usr/local/lib/python3.12/dist-packages (from catboost) (2.2.2)\n",
            "Requirement already satisfied: scipy in /usr/local/lib/python3.12/dist-packages (from catboost) (1.16.2)\n",
            "Requirement already satisfied: plotly in /usr/local/lib/python3.12/dist-packages (from catboost) (5.24.1)\n",
            "Requirement already satisfied: six in /usr/local/lib/python3.12/dist-packages (from catboost) (1.17.0)\n",
            "Requirement already satisfied: python-dateutil>=2.8.2 in /usr/local/lib/python3.12/dist-packages (from pandas>=0.24->catboost) (2.9.0.post0)\n",
            "Requirement already satisfied: pytz>=2020.1 in /usr/local/lib/python3.12/dist-packages (from pandas>=0.24->catboost) (2025.2)\n",
            "Requirement already satisfied: tzdata>=2022.7 in /usr/local/lib/python3.12/dist-packages (from pandas>=0.24->catboost) (2025.2)\n",
            "Requirement already satisfied: contourpy>=1.0.1 in /usr/local/lib/python3.12/dist-packages (from matplotlib->catboost) (1.3.3)\n",
            "Requirement already satisfied: cycler>=0.10 in /usr/local/lib/python3.12/dist-packages (from matplotlib->catboost) (0.12.1)\n",
            "Requirement already satisfied: fonttools>=4.22.0 in /usr/local/lib/python3.12/dist-packages (from matplotlib->catboost) (4.60.0)\n",
            "Requirement already satisfied: kiwisolver>=1.3.1 in /usr/local/lib/python3.12/dist-packages (from matplotlib->catboost) (1.4.9)\n",
            "Requirement already satisfied: packaging>=20.0 in /usr/local/lib/python3.12/dist-packages (from matplotlib->catboost) (25.0)\n",
            "Requirement already satisfied: pillow>=8 in /usr/local/lib/python3.12/dist-packages (from matplotlib->catboost) (11.3.0)\n",
            "Requirement already satisfied: pyparsing>=2.3.1 in /usr/local/lib/python3.12/dist-packages (from matplotlib->catboost) (3.2.4)\n",
            "Requirement already satisfied: tenacity>=6.2.0 in /usr/local/lib/python3.12/dist-packages (from plotly->catboost) (8.5.0)\n"
          ]
        }
      ],
      "source": [
        "!pip install catboost"
      ]
    },
    {
      "cell_type": "code",
      "source": [
        "import sys                             # Lê parametros do sistema\n",
        "import os                              # Interage com o sistema operacional\n",
        "import numpy as np                     # Trabalha com arrays e matrizes multidimensionais\n",
        "import pandas as pd                    # Manipula e analisa dados\n",
        "import matplotlib as mpl               # Cria gráficos 2D\n",
        "import matplotlib.pyplot as plt\n",
        "from sklearn.model_selection import cross_val_score, StratifiedKFold,cross_validate\n",
        "from sklearn.metrics import accuracy_score, precision_score, recall_score,make_scorer"
      ],
      "metadata": {
        "id": "FBVSA6uP0KAG"
      },
      "execution_count": 10,
      "outputs": []
    },
    {
      "cell_type": "code",
      "source": [
        "import sklearn                         # Performa data mining e analise\n",
        "from sklearn.utils import shuffle      # Embaralha os dados\n",
        "from time import time                  # Calcula o tempo do treino"
      ],
      "metadata": {
        "id": "OdapNX4-0NDI"
      },
      "execution_count": 11,
      "outputs": []
    },
    {
      "cell_type": "code",
      "source": [
        "from google.colab import drive"
      ],
      "metadata": {
        "id": "FU9yci9B0SQz"
      },
      "execution_count": 12,
      "outputs": []
    },
    {
      "cell_type": "markdown",
      "source": [
        "criando acesso ao G drive"
      ],
      "metadata": {
        "id": "EOKlvVjA0UDV"
      }
    },
    {
      "cell_type": "code",
      "source": [
        "drive.mount('/content/drive')"
      ],
      "metadata": {
        "colab": {
          "base_uri": "https://localhost:8080/"
        },
        "id": "LmSdNrs80WxH",
        "outputId": "9fa8e523-7505-43b2-c022-8f9ed824fb88"
      },
      "execution_count": 13,
      "outputs": [
        {
          "output_type": "stream",
          "name": "stdout",
          "text": [
            "Drive already mounted at /content/drive; to attempt to forcibly remount, call drive.mount(\"/content/drive\", force_remount=True).\n"
          ]
        }
      ]
    },
    {
      "cell_type": "code",
      "source": [],
      "metadata": {
        "id": "kB5kmr88I6gN"
      },
      "execution_count": 13,
      "outputs": []
    },
    {
      "cell_type": "code",
      "source": [
        "#Abrir o arquivo\n",
        "base = pd.read_excel('/content/drive/MyDrive/dados/felicidade.xlsx')"
      ],
      "metadata": {
        "id": "C9thUCO70bFE"
      },
      "execution_count": 14,
      "outputs": []
    },
    {
      "cell_type": "code",
      "source": [
        "from google.colab import drive\n",
        "drive.mount('/content/drive')"
      ],
      "metadata": {
        "colab": {
          "base_uri": "https://localhost:8080/"
        },
        "id": "UaZnrrEB0efE",
        "outputId": "ef7f023f-69ea-47a9-dd38-6d59f4e428c6"
      },
      "execution_count": 15,
      "outputs": [
        {
          "output_type": "stream",
          "name": "stdout",
          "text": [
            "Drive already mounted at /content/drive; to attempt to forcibly remount, call drive.mount(\"/content/drive\", force_remount=True).\n"
          ]
        }
      ]
    },
    {
      "cell_type": "code",
      "source": [
        "base"
      ],
      "metadata": {
        "colab": {
          "base_uri": "https://localhost:8080/",
          "height": 441
        },
        "id": "HRF2Ch5o0ga4",
        "outputId": "62422316-19c3-4b11-e57d-0cb4e11fed7e"
      },
      "execution_count": 16,
      "outputs": [
        {
          "output_type": "execute_result",
          "data": {
            "text/plain": [
              "      Id  Grau de Felicidade (0-10)  Idade Tipo de Alimentação  \\\n",
              "0      1                        8.5   35.0         Vegetariana   \n",
              "1      2                        6.2   45.0             Onívora   \n",
              "2      3                        9.0   28.0              Vegana   \n",
              "3      4                        5.5   60.0             Onívora   \n",
              "4      5                        7.8   42.0        Pescetariana   \n",
              "..   ...                        ...    ...                 ...   \n",
              "96    97                        5.6   58.0                 NaN   \n",
              "97    98                        7.7   25.0        Pescetariana   \n",
              "98    99                        8.2   48.0         Vegetariana   \n",
              "99   100                        6.9   37.0             Onívora   \n",
              "100  101                        4.8   55.0              Vegana   \n",
              "\n",
              "     Expectativa de Vida  \n",
              "0                   78.0  \n",
              "1                   72.0  \n",
              "2                   82.0  \n",
              "3                   68.0  \n",
              "4                   75.0  \n",
              "..                   ...  \n",
              "96                  75.0  \n",
              "97                  82.0  \n",
              "98                  90.0  \n",
              "99                  75.0  \n",
              "100                 68.0  \n",
              "\n",
              "[101 rows x 5 columns]"
            ],
            "text/html": [
              "\n",
              "  <div id=\"df-a61a139f-3fbb-4a25-ab5e-f7f1d580b1a2\" class=\"colab-df-container\">\n",
              "    <div>\n",
              "<style scoped>\n",
              "    .dataframe tbody tr th:only-of-type {\n",
              "        vertical-align: middle;\n",
              "    }\n",
              "\n",
              "    .dataframe tbody tr th {\n",
              "        vertical-align: top;\n",
              "    }\n",
              "\n",
              "    .dataframe thead th {\n",
              "        text-align: right;\n",
              "    }\n",
              "</style>\n",
              "<table border=\"1\" class=\"dataframe\">\n",
              "  <thead>\n",
              "    <tr style=\"text-align: right;\">\n",
              "      <th></th>\n",
              "      <th>Id</th>\n",
              "      <th>Grau de Felicidade (0-10)</th>\n",
              "      <th>Idade</th>\n",
              "      <th>Tipo de Alimentação</th>\n",
              "      <th>Expectativa de Vida</th>\n",
              "    </tr>\n",
              "  </thead>\n",
              "  <tbody>\n",
              "    <tr>\n",
              "      <th>0</th>\n",
              "      <td>1</td>\n",
              "      <td>8.5</td>\n",
              "      <td>35.0</td>\n",
              "      <td>Vegetariana</td>\n",
              "      <td>78.0</td>\n",
              "    </tr>\n",
              "    <tr>\n",
              "      <th>1</th>\n",
              "      <td>2</td>\n",
              "      <td>6.2</td>\n",
              "      <td>45.0</td>\n",
              "      <td>Onívora</td>\n",
              "      <td>72.0</td>\n",
              "    </tr>\n",
              "    <tr>\n",
              "      <th>2</th>\n",
              "      <td>3</td>\n",
              "      <td>9.0</td>\n",
              "      <td>28.0</td>\n",
              "      <td>Vegana</td>\n",
              "      <td>82.0</td>\n",
              "    </tr>\n",
              "    <tr>\n",
              "      <th>3</th>\n",
              "      <td>4</td>\n",
              "      <td>5.5</td>\n",
              "      <td>60.0</td>\n",
              "      <td>Onívora</td>\n",
              "      <td>68.0</td>\n",
              "    </tr>\n",
              "    <tr>\n",
              "      <th>4</th>\n",
              "      <td>5</td>\n",
              "      <td>7.8</td>\n",
              "      <td>42.0</td>\n",
              "      <td>Pescetariana</td>\n",
              "      <td>75.0</td>\n",
              "    </tr>\n",
              "    <tr>\n",
              "      <th>...</th>\n",
              "      <td>...</td>\n",
              "      <td>...</td>\n",
              "      <td>...</td>\n",
              "      <td>...</td>\n",
              "      <td>...</td>\n",
              "    </tr>\n",
              "    <tr>\n",
              "      <th>96</th>\n",
              "      <td>97</td>\n",
              "      <td>5.6</td>\n",
              "      <td>58.0</td>\n",
              "      <td>NaN</td>\n",
              "      <td>75.0</td>\n",
              "    </tr>\n",
              "    <tr>\n",
              "      <th>97</th>\n",
              "      <td>98</td>\n",
              "      <td>7.7</td>\n",
              "      <td>25.0</td>\n",
              "      <td>Pescetariana</td>\n",
              "      <td>82.0</td>\n",
              "    </tr>\n",
              "    <tr>\n",
              "      <th>98</th>\n",
              "      <td>99</td>\n",
              "      <td>8.2</td>\n",
              "      <td>48.0</td>\n",
              "      <td>Vegetariana</td>\n",
              "      <td>90.0</td>\n",
              "    </tr>\n",
              "    <tr>\n",
              "      <th>99</th>\n",
              "      <td>100</td>\n",
              "      <td>6.9</td>\n",
              "      <td>37.0</td>\n",
              "      <td>Onívora</td>\n",
              "      <td>75.0</td>\n",
              "    </tr>\n",
              "    <tr>\n",
              "      <th>100</th>\n",
              "      <td>101</td>\n",
              "      <td>4.8</td>\n",
              "      <td>55.0</td>\n",
              "      <td>Vegana</td>\n",
              "      <td>68.0</td>\n",
              "    </tr>\n",
              "  </tbody>\n",
              "</table>\n",
              "<p>101 rows × 5 columns</p>\n",
              "</div>\n",
              "    <div class=\"colab-df-buttons\">\n",
              "\n",
              "  <div class=\"colab-df-container\">\n",
              "    <button class=\"colab-df-convert\" onclick=\"convertToInteractive('df-a61a139f-3fbb-4a25-ab5e-f7f1d580b1a2')\"\n",
              "            title=\"Convert this dataframe to an interactive table.\"\n",
              "            style=\"display:none;\">\n",
              "\n",
              "  <svg xmlns=\"http://www.w3.org/2000/svg\" height=\"24px\" viewBox=\"0 -960 960 960\">\n",
              "    <path d=\"M120-120v-720h720v720H120Zm60-500h600v-160H180v160Zm220 220h160v-160H400v160Zm0 220h160v-160H400v160ZM180-400h160v-160H180v160Zm440 0h160v-160H620v160ZM180-180h160v-160H180v160Zm440 0h160v-160H620v160Z\"/>\n",
              "  </svg>\n",
              "    </button>\n",
              "\n",
              "  <style>\n",
              "    .colab-df-container {\n",
              "      display:flex;\n",
              "      gap: 12px;\n",
              "    }\n",
              "\n",
              "    .colab-df-convert {\n",
              "      background-color: #E8F0FE;\n",
              "      border: none;\n",
              "      border-radius: 50%;\n",
              "      cursor: pointer;\n",
              "      display: none;\n",
              "      fill: #1967D2;\n",
              "      height: 32px;\n",
              "      padding: 0 0 0 0;\n",
              "      width: 32px;\n",
              "    }\n",
              "\n",
              "    .colab-df-convert:hover {\n",
              "      background-color: #E2EBFA;\n",
              "      box-shadow: 0px 1px 2px rgba(60, 64, 67, 0.3), 0px 1px 3px 1px rgba(60, 64, 67, 0.15);\n",
              "      fill: #174EA6;\n",
              "    }\n",
              "\n",
              "    .colab-df-buttons div {\n",
              "      margin-bottom: 4px;\n",
              "    }\n",
              "\n",
              "    [theme=dark] .colab-df-convert {\n",
              "      background-color: #3B4455;\n",
              "      fill: #D2E3FC;\n",
              "    }\n",
              "\n",
              "    [theme=dark] .colab-df-convert:hover {\n",
              "      background-color: #434B5C;\n",
              "      box-shadow: 0px 1px 3px 1px rgba(0, 0, 0, 0.15);\n",
              "      filter: drop-shadow(0px 1px 2px rgba(0, 0, 0, 0.3));\n",
              "      fill: #FFFFFF;\n",
              "    }\n",
              "  </style>\n",
              "\n",
              "    <script>\n",
              "      const buttonEl =\n",
              "        document.querySelector('#df-a61a139f-3fbb-4a25-ab5e-f7f1d580b1a2 button.colab-df-convert');\n",
              "      buttonEl.style.display =\n",
              "        google.colab.kernel.accessAllowed ? 'block' : 'none';\n",
              "\n",
              "      async function convertToInteractive(key) {\n",
              "        const element = document.querySelector('#df-a61a139f-3fbb-4a25-ab5e-f7f1d580b1a2');\n",
              "        const dataTable =\n",
              "          await google.colab.kernel.invokeFunction('convertToInteractive',\n",
              "                                                    [key], {});\n",
              "        if (!dataTable) return;\n",
              "\n",
              "        const docLinkHtml = 'Like what you see? Visit the ' +\n",
              "          '<a target=\"_blank\" href=https://colab.research.google.com/notebooks/data_table.ipynb>data table notebook</a>'\n",
              "          + ' to learn more about interactive tables.';\n",
              "        element.innerHTML = '';\n",
              "        dataTable['output_type'] = 'display_data';\n",
              "        await google.colab.output.renderOutput(dataTable, element);\n",
              "        const docLink = document.createElement('div');\n",
              "        docLink.innerHTML = docLinkHtml;\n",
              "        element.appendChild(docLink);\n",
              "      }\n",
              "    </script>\n",
              "  </div>\n",
              "\n",
              "\n",
              "    <div id=\"df-410a3990-0b1f-4e47-8d6f-d60d22a65747\">\n",
              "      <button class=\"colab-df-quickchart\" onclick=\"quickchart('df-410a3990-0b1f-4e47-8d6f-d60d22a65747')\"\n",
              "                title=\"Suggest charts\"\n",
              "                style=\"display:none;\">\n",
              "\n",
              "<svg xmlns=\"http://www.w3.org/2000/svg\" height=\"24px\"viewBox=\"0 0 24 24\"\n",
              "     width=\"24px\">\n",
              "    <g>\n",
              "        <path d=\"M19 3H5c-1.1 0-2 .9-2 2v14c0 1.1.9 2 2 2h14c1.1 0 2-.9 2-2V5c0-1.1-.9-2-2-2zM9 17H7v-7h2v7zm4 0h-2V7h2v10zm4 0h-2v-4h2v4z\"/>\n",
              "    </g>\n",
              "</svg>\n",
              "      </button>\n",
              "\n",
              "<style>\n",
              "  .colab-df-quickchart {\n",
              "      --bg-color: #E8F0FE;\n",
              "      --fill-color: #1967D2;\n",
              "      --hover-bg-color: #E2EBFA;\n",
              "      --hover-fill-color: #174EA6;\n",
              "      --disabled-fill-color: #AAA;\n",
              "      --disabled-bg-color: #DDD;\n",
              "  }\n",
              "\n",
              "  [theme=dark] .colab-df-quickchart {\n",
              "      --bg-color: #3B4455;\n",
              "      --fill-color: #D2E3FC;\n",
              "      --hover-bg-color: #434B5C;\n",
              "      --hover-fill-color: #FFFFFF;\n",
              "      --disabled-bg-color: #3B4455;\n",
              "      --disabled-fill-color: #666;\n",
              "  }\n",
              "\n",
              "  .colab-df-quickchart {\n",
              "    background-color: var(--bg-color);\n",
              "    border: none;\n",
              "    border-radius: 50%;\n",
              "    cursor: pointer;\n",
              "    display: none;\n",
              "    fill: var(--fill-color);\n",
              "    height: 32px;\n",
              "    padding: 0;\n",
              "    width: 32px;\n",
              "  }\n",
              "\n",
              "  .colab-df-quickchart:hover {\n",
              "    background-color: var(--hover-bg-color);\n",
              "    box-shadow: 0 1px 2px rgba(60, 64, 67, 0.3), 0 1px 3px 1px rgba(60, 64, 67, 0.15);\n",
              "    fill: var(--button-hover-fill-color);\n",
              "  }\n",
              "\n",
              "  .colab-df-quickchart-complete:disabled,\n",
              "  .colab-df-quickchart-complete:disabled:hover {\n",
              "    background-color: var(--disabled-bg-color);\n",
              "    fill: var(--disabled-fill-color);\n",
              "    box-shadow: none;\n",
              "  }\n",
              "\n",
              "  .colab-df-spinner {\n",
              "    border: 2px solid var(--fill-color);\n",
              "    border-color: transparent;\n",
              "    border-bottom-color: var(--fill-color);\n",
              "    animation:\n",
              "      spin 1s steps(1) infinite;\n",
              "  }\n",
              "\n",
              "  @keyframes spin {\n",
              "    0% {\n",
              "      border-color: transparent;\n",
              "      border-bottom-color: var(--fill-color);\n",
              "      border-left-color: var(--fill-color);\n",
              "    }\n",
              "    20% {\n",
              "      border-color: transparent;\n",
              "      border-left-color: var(--fill-color);\n",
              "      border-top-color: var(--fill-color);\n",
              "    }\n",
              "    30% {\n",
              "      border-color: transparent;\n",
              "      border-left-color: var(--fill-color);\n",
              "      border-top-color: var(--fill-color);\n",
              "      border-right-color: var(--fill-color);\n",
              "    }\n",
              "    40% {\n",
              "      border-color: transparent;\n",
              "      border-right-color: var(--fill-color);\n",
              "      border-top-color: var(--fill-color);\n",
              "    }\n",
              "    60% {\n",
              "      border-color: transparent;\n",
              "      border-right-color: var(--fill-color);\n",
              "    }\n",
              "    80% {\n",
              "      border-color: transparent;\n",
              "      border-right-color: var(--fill-color);\n",
              "      border-bottom-color: var(--fill-color);\n",
              "    }\n",
              "    90% {\n",
              "      border-color: transparent;\n",
              "      border-bottom-color: var(--fill-color);\n",
              "    }\n",
              "  }\n",
              "</style>\n",
              "\n",
              "      <script>\n",
              "        async function quickchart(key) {\n",
              "          const quickchartButtonEl =\n",
              "            document.querySelector('#' + key + ' button');\n",
              "          quickchartButtonEl.disabled = true;  // To prevent multiple clicks.\n",
              "          quickchartButtonEl.classList.add('colab-df-spinner');\n",
              "          try {\n",
              "            const charts = await google.colab.kernel.invokeFunction(\n",
              "                'suggestCharts', [key], {});\n",
              "          } catch (error) {\n",
              "            console.error('Error during call to suggestCharts:', error);\n",
              "          }\n",
              "          quickchartButtonEl.classList.remove('colab-df-spinner');\n",
              "          quickchartButtonEl.classList.add('colab-df-quickchart-complete');\n",
              "        }\n",
              "        (() => {\n",
              "          let quickchartButtonEl =\n",
              "            document.querySelector('#df-410a3990-0b1f-4e47-8d6f-d60d22a65747 button');\n",
              "          quickchartButtonEl.style.display =\n",
              "            google.colab.kernel.accessAllowed ? 'block' : 'none';\n",
              "        })();\n",
              "      </script>\n",
              "    </div>\n",
              "\n",
              "  <div id=\"id_8021f110-3b65-4a75-a02a-552217b81856\">\n",
              "    <style>\n",
              "      .colab-df-generate {\n",
              "        background-color: #E8F0FE;\n",
              "        border: none;\n",
              "        border-radius: 50%;\n",
              "        cursor: pointer;\n",
              "        display: none;\n",
              "        fill: #1967D2;\n",
              "        height: 32px;\n",
              "        padding: 0 0 0 0;\n",
              "        width: 32px;\n",
              "      }\n",
              "\n",
              "      .colab-df-generate:hover {\n",
              "        background-color: #E2EBFA;\n",
              "        box-shadow: 0px 1px 2px rgba(60, 64, 67, 0.3), 0px 1px 3px 1px rgba(60, 64, 67, 0.15);\n",
              "        fill: #174EA6;\n",
              "      }\n",
              "\n",
              "      [theme=dark] .colab-df-generate {\n",
              "        background-color: #3B4455;\n",
              "        fill: #D2E3FC;\n",
              "      }\n",
              "\n",
              "      [theme=dark] .colab-df-generate:hover {\n",
              "        background-color: #434B5C;\n",
              "        box-shadow: 0px 1px 3px 1px rgba(0, 0, 0, 0.15);\n",
              "        filter: drop-shadow(0px 1px 2px rgba(0, 0, 0, 0.3));\n",
              "        fill: #FFFFFF;\n",
              "      }\n",
              "    </style>\n",
              "    <button class=\"colab-df-generate\" onclick=\"generateWithVariable('base')\"\n",
              "            title=\"Generate code using this dataframe.\"\n",
              "            style=\"display:none;\">\n",
              "\n",
              "  <svg xmlns=\"http://www.w3.org/2000/svg\" height=\"24px\"viewBox=\"0 0 24 24\"\n",
              "       width=\"24px\">\n",
              "    <path d=\"M7,19H8.4L18.45,9,17,7.55,7,17.6ZM5,21V16.75L18.45,3.32a2,2,0,0,1,2.83,0l1.4,1.43a1.91,1.91,0,0,1,.58,1.4,1.91,1.91,0,0,1-.58,1.4L9.25,21ZM18.45,9,17,7.55Zm-12,3A5.31,5.31,0,0,0,4.9,8.1,5.31,5.31,0,0,0,1,6.5,5.31,5.31,0,0,0,4.9,4.9,5.31,5.31,0,0,0,6.5,1,5.31,5.31,0,0,0,8.1,4.9,5.31,5.31,0,0,0,12,6.5,5.46,5.46,0,0,0,6.5,12Z\"/>\n",
              "  </svg>\n",
              "    </button>\n",
              "    <script>\n",
              "      (() => {\n",
              "      const buttonEl =\n",
              "        document.querySelector('#id_8021f110-3b65-4a75-a02a-552217b81856 button.colab-df-generate');\n",
              "      buttonEl.style.display =\n",
              "        google.colab.kernel.accessAllowed ? 'block' : 'none';\n",
              "\n",
              "      buttonEl.onclick = () => {\n",
              "        google.colab.notebook.generateWithVariable('base');\n",
              "      }\n",
              "      })();\n",
              "    </script>\n",
              "  </div>\n",
              "\n",
              "    </div>\n",
              "  </div>\n"
            ],
            "application/vnd.google.colaboratory.intrinsic+json": {
              "type": "dataframe",
              "variable_name": "base",
              "summary": "{\n  \"name\": \"base\",\n  \"rows\": 101,\n  \"fields\": [\n    {\n      \"column\": \"Id\",\n      \"properties\": {\n        \"dtype\": \"number\",\n        \"std\": 29,\n        \"min\": 1,\n        \"max\": 101,\n        \"num_unique_values\": 101,\n        \"samples\": [\n          85,\n          56,\n          67\n        ],\n        \"semantic_type\": \"\",\n        \"description\": \"\"\n      }\n    },\n    {\n      \"column\": \"Grau de Felicidade (0-10)\",\n      \"properties\": {\n        \"dtype\": \"number\",\n        \"std\": 1.5241371130557577,\n        \"min\": 3.8,\n        \"max\": 9.5,\n        \"num_unique_values\": 49,\n        \"samples\": [\n          7.2,\n          5.6,\n          8.2\n        ],\n        \"semantic_type\": \"\",\n        \"description\": \"\"\n      }\n    },\n    {\n      \"column\": \"Idade\",\n      \"properties\": {\n        \"dtype\": \"number\",\n        \"std\": 36.514241947758514,\n        \"min\": 20.0,\n        \"max\": 180.0,\n        \"num_unique_values\": 23,\n        \"samples\": [\n          40.0,\n          25.0,\n          35.0\n        ],\n        \"semantic_type\": \"\",\n        \"description\": \"\"\n      }\n    },\n    {\n      \"column\": \"Tipo de Alimenta\\u00e7\\u00e3o\",\n      \"properties\": {\n        \"dtype\": \"category\",\n        \"num_unique_values\": 4,\n        \"samples\": [\n          \"On\\u00edvora\",\n          \"Pescetariana\",\n          \"Vegetariana\"\n        ],\n        \"semantic_type\": \"\",\n        \"description\": \"\"\n      }\n    },\n    {\n      \"column\": \"Expectativa de Vida\",\n      \"properties\": {\n        \"dtype\": \"number\",\n        \"std\": 27.984084582115425,\n        \"min\": -10.0,\n        \"max\": 180.0,\n        \"num_unique_values\": 27,\n        \"samples\": [\n          74.0,\n          100.0,\n          85.0\n        ],\n        \"semantic_type\": \"\",\n        \"description\": \"\"\n      }\n    }\n  ]\n}"
            }
          },
          "metadata": {},
          "execution_count": 16
        }
      ]
    },
    {
      "cell_type": "code",
      "source": [
        "base.shape[1]"
      ],
      "metadata": {
        "colab": {
          "base_uri": "https://localhost:8080/"
        },
        "id": "86sjmo2N0kRu",
        "outputId": "5bb7d72d-5dc9-4dae-ec37-ce05913d2184"
      },
      "execution_count": 17,
      "outputs": [
        {
          "output_type": "execute_result",
          "data": {
            "text/plain": [
              "5"
            ]
          },
          "metadata": {},
          "execution_count": 17
        }
      ]
    },
    {
      "cell_type": "code",
      "source": [
        "# consulta de valores nan na base\n",
        "base[base.isnull().any(axis=1)]"
      ],
      "metadata": {
        "colab": {
          "base_uri": "https://localhost:8080/",
          "height": 662
        },
        "id": "iSH63yag0mM1",
        "outputId": "a1c2498f-a8e2-434e-88e0-6e2d54f56404"
      },
      "execution_count": 18,
      "outputs": [
        {
          "output_type": "execute_result",
          "data": {
            "text/plain": [
              "    Id  Grau de Felicidade (0-10)  Idade Tipo de Alimentação  \\\n",
              "14  15                        8.9   30.0                 NaN   \n",
              "16  17                        7.1   45.0                 NaN   \n",
              "17  18                        6.3    NaN              Vegana   \n",
              "18  19                        5.9    NaN             Onívora   \n",
              "21  22                        8.0   40.0                 NaN   \n",
              "28  29                        9.3   70.0                 NaN   \n",
              "35  36                        5.0    NaN        Pescetariana   \n",
              "37  38                        9.4   28.0                 NaN   \n",
              "45  46                        5.6   58.0                 NaN   \n",
              "50  51                        NaN    NaN                 NaN   \n",
              "65  66                        8.9   30.0                 NaN   \n",
              "67  68                        7.1   45.0                 NaN   \n",
              "68  69                        6.3    NaN              Vegana   \n",
              "69  70                        5.9    NaN             Onívora   \n",
              "72  73                        8.0   40.0                 NaN   \n",
              "79  80                        9.3   70.0                 NaN   \n",
              "86  87                        5.0    NaN        Pescetariana   \n",
              "88  89                        9.4   28.0                 NaN   \n",
              "96  97                        5.6   58.0                 NaN   \n",
              "\n",
              "    Expectativa de Vida  \n",
              "14                 50.0  \n",
              "16                 55.0  \n",
              "17                145.0  \n",
              "18                138.0  \n",
              "21                -10.0  \n",
              "28                100.0  \n",
              "35                 65.0  \n",
              "37                 85.0  \n",
              "45                 75.0  \n",
              "50                  NaN  \n",
              "65                140.0  \n",
              "67                130.0  \n",
              "68                145.0  \n",
              "69                138.0  \n",
              "72                -10.0  \n",
              "79                100.0  \n",
              "86                 65.0  \n",
              "88                 85.0  \n",
              "96                 75.0  "
            ],
            "text/html": [
              "\n",
              "  <div id=\"df-90cde46b-1857-4432-ac47-fb7a94fd980f\" class=\"colab-df-container\">\n",
              "    <div>\n",
              "<style scoped>\n",
              "    .dataframe tbody tr th:only-of-type {\n",
              "        vertical-align: middle;\n",
              "    }\n",
              "\n",
              "    .dataframe tbody tr th {\n",
              "        vertical-align: top;\n",
              "    }\n",
              "\n",
              "    .dataframe thead th {\n",
              "        text-align: right;\n",
              "    }\n",
              "</style>\n",
              "<table border=\"1\" class=\"dataframe\">\n",
              "  <thead>\n",
              "    <tr style=\"text-align: right;\">\n",
              "      <th></th>\n",
              "      <th>Id</th>\n",
              "      <th>Grau de Felicidade (0-10)</th>\n",
              "      <th>Idade</th>\n",
              "      <th>Tipo de Alimentação</th>\n",
              "      <th>Expectativa de Vida</th>\n",
              "    </tr>\n",
              "  </thead>\n",
              "  <tbody>\n",
              "    <tr>\n",
              "      <th>14</th>\n",
              "      <td>15</td>\n",
              "      <td>8.9</td>\n",
              "      <td>30.0</td>\n",
              "      <td>NaN</td>\n",
              "      <td>50.0</td>\n",
              "    </tr>\n",
              "    <tr>\n",
              "      <th>16</th>\n",
              "      <td>17</td>\n",
              "      <td>7.1</td>\n",
              "      <td>45.0</td>\n",
              "      <td>NaN</td>\n",
              "      <td>55.0</td>\n",
              "    </tr>\n",
              "    <tr>\n",
              "      <th>17</th>\n",
              "      <td>18</td>\n",
              "      <td>6.3</td>\n",
              "      <td>NaN</td>\n",
              "      <td>Vegana</td>\n",
              "      <td>145.0</td>\n",
              "    </tr>\n",
              "    <tr>\n",
              "      <th>18</th>\n",
              "      <td>19</td>\n",
              "      <td>5.9</td>\n",
              "      <td>NaN</td>\n",
              "      <td>Onívora</td>\n",
              "      <td>138.0</td>\n",
              "    </tr>\n",
              "    <tr>\n",
              "      <th>21</th>\n",
              "      <td>22</td>\n",
              "      <td>8.0</td>\n",
              "      <td>40.0</td>\n",
              "      <td>NaN</td>\n",
              "      <td>-10.0</td>\n",
              "    </tr>\n",
              "    <tr>\n",
              "      <th>28</th>\n",
              "      <td>29</td>\n",
              "      <td>9.3</td>\n",
              "      <td>70.0</td>\n",
              "      <td>NaN</td>\n",
              "      <td>100.0</td>\n",
              "    </tr>\n",
              "    <tr>\n",
              "      <th>35</th>\n",
              "      <td>36</td>\n",
              "      <td>5.0</td>\n",
              "      <td>NaN</td>\n",
              "      <td>Pescetariana</td>\n",
              "      <td>65.0</td>\n",
              "    </tr>\n",
              "    <tr>\n",
              "      <th>37</th>\n",
              "      <td>38</td>\n",
              "      <td>9.4</td>\n",
              "      <td>28.0</td>\n",
              "      <td>NaN</td>\n",
              "      <td>85.0</td>\n",
              "    </tr>\n",
              "    <tr>\n",
              "      <th>45</th>\n",
              "      <td>46</td>\n",
              "      <td>5.6</td>\n",
              "      <td>58.0</td>\n",
              "      <td>NaN</td>\n",
              "      <td>75.0</td>\n",
              "    </tr>\n",
              "    <tr>\n",
              "      <th>50</th>\n",
              "      <td>51</td>\n",
              "      <td>NaN</td>\n",
              "      <td>NaN</td>\n",
              "      <td>NaN</td>\n",
              "      <td>NaN</td>\n",
              "    </tr>\n",
              "    <tr>\n",
              "      <th>65</th>\n",
              "      <td>66</td>\n",
              "      <td>8.9</td>\n",
              "      <td>30.0</td>\n",
              "      <td>NaN</td>\n",
              "      <td>140.0</td>\n",
              "    </tr>\n",
              "    <tr>\n",
              "      <th>67</th>\n",
              "      <td>68</td>\n",
              "      <td>7.1</td>\n",
              "      <td>45.0</td>\n",
              "      <td>NaN</td>\n",
              "      <td>130.0</td>\n",
              "    </tr>\n",
              "    <tr>\n",
              "      <th>68</th>\n",
              "      <td>69</td>\n",
              "      <td>6.3</td>\n",
              "      <td>NaN</td>\n",
              "      <td>Vegana</td>\n",
              "      <td>145.0</td>\n",
              "    </tr>\n",
              "    <tr>\n",
              "      <th>69</th>\n",
              "      <td>70</td>\n",
              "      <td>5.9</td>\n",
              "      <td>NaN</td>\n",
              "      <td>Onívora</td>\n",
              "      <td>138.0</td>\n",
              "    </tr>\n",
              "    <tr>\n",
              "      <th>72</th>\n",
              "      <td>73</td>\n",
              "      <td>8.0</td>\n",
              "      <td>40.0</td>\n",
              "      <td>NaN</td>\n",
              "      <td>-10.0</td>\n",
              "    </tr>\n",
              "    <tr>\n",
              "      <th>79</th>\n",
              "      <td>80</td>\n",
              "      <td>9.3</td>\n",
              "      <td>70.0</td>\n",
              "      <td>NaN</td>\n",
              "      <td>100.0</td>\n",
              "    </tr>\n",
              "    <tr>\n",
              "      <th>86</th>\n",
              "      <td>87</td>\n",
              "      <td>5.0</td>\n",
              "      <td>NaN</td>\n",
              "      <td>Pescetariana</td>\n",
              "      <td>65.0</td>\n",
              "    </tr>\n",
              "    <tr>\n",
              "      <th>88</th>\n",
              "      <td>89</td>\n",
              "      <td>9.4</td>\n",
              "      <td>28.0</td>\n",
              "      <td>NaN</td>\n",
              "      <td>85.0</td>\n",
              "    </tr>\n",
              "    <tr>\n",
              "      <th>96</th>\n",
              "      <td>97</td>\n",
              "      <td>5.6</td>\n",
              "      <td>58.0</td>\n",
              "      <td>NaN</td>\n",
              "      <td>75.0</td>\n",
              "    </tr>\n",
              "  </tbody>\n",
              "</table>\n",
              "</div>\n",
              "    <div class=\"colab-df-buttons\">\n",
              "\n",
              "  <div class=\"colab-df-container\">\n",
              "    <button class=\"colab-df-convert\" onclick=\"convertToInteractive('df-90cde46b-1857-4432-ac47-fb7a94fd980f')\"\n",
              "            title=\"Convert this dataframe to an interactive table.\"\n",
              "            style=\"display:none;\">\n",
              "\n",
              "  <svg xmlns=\"http://www.w3.org/2000/svg\" height=\"24px\" viewBox=\"0 -960 960 960\">\n",
              "    <path d=\"M120-120v-720h720v720H120Zm60-500h600v-160H180v160Zm220 220h160v-160H400v160Zm0 220h160v-160H400v160ZM180-400h160v-160H180v160Zm440 0h160v-160H620v160ZM180-180h160v-160H180v160Zm440 0h160v-160H620v160Z\"/>\n",
              "  </svg>\n",
              "    </button>\n",
              "\n",
              "  <style>\n",
              "    .colab-df-container {\n",
              "      display:flex;\n",
              "      gap: 12px;\n",
              "    }\n",
              "\n",
              "    .colab-df-convert {\n",
              "      background-color: #E8F0FE;\n",
              "      border: none;\n",
              "      border-radius: 50%;\n",
              "      cursor: pointer;\n",
              "      display: none;\n",
              "      fill: #1967D2;\n",
              "      height: 32px;\n",
              "      padding: 0 0 0 0;\n",
              "      width: 32px;\n",
              "    }\n",
              "\n",
              "    .colab-df-convert:hover {\n",
              "      background-color: #E2EBFA;\n",
              "      box-shadow: 0px 1px 2px rgba(60, 64, 67, 0.3), 0px 1px 3px 1px rgba(60, 64, 67, 0.15);\n",
              "      fill: #174EA6;\n",
              "    }\n",
              "\n",
              "    .colab-df-buttons div {\n",
              "      margin-bottom: 4px;\n",
              "    }\n",
              "\n",
              "    [theme=dark] .colab-df-convert {\n",
              "      background-color: #3B4455;\n",
              "      fill: #D2E3FC;\n",
              "    }\n",
              "\n",
              "    [theme=dark] .colab-df-convert:hover {\n",
              "      background-color: #434B5C;\n",
              "      box-shadow: 0px 1px 3px 1px rgba(0, 0, 0, 0.15);\n",
              "      filter: drop-shadow(0px 1px 2px rgba(0, 0, 0, 0.3));\n",
              "      fill: #FFFFFF;\n",
              "    }\n",
              "  </style>\n",
              "\n",
              "    <script>\n",
              "      const buttonEl =\n",
              "        document.querySelector('#df-90cde46b-1857-4432-ac47-fb7a94fd980f button.colab-df-convert');\n",
              "      buttonEl.style.display =\n",
              "        google.colab.kernel.accessAllowed ? 'block' : 'none';\n",
              "\n",
              "      async function convertToInteractive(key) {\n",
              "        const element = document.querySelector('#df-90cde46b-1857-4432-ac47-fb7a94fd980f');\n",
              "        const dataTable =\n",
              "          await google.colab.kernel.invokeFunction('convertToInteractive',\n",
              "                                                    [key], {});\n",
              "        if (!dataTable) return;\n",
              "\n",
              "        const docLinkHtml = 'Like what you see? Visit the ' +\n",
              "          '<a target=\"_blank\" href=https://colab.research.google.com/notebooks/data_table.ipynb>data table notebook</a>'\n",
              "          + ' to learn more about interactive tables.';\n",
              "        element.innerHTML = '';\n",
              "        dataTable['output_type'] = 'display_data';\n",
              "        await google.colab.output.renderOutput(dataTable, element);\n",
              "        const docLink = document.createElement('div');\n",
              "        docLink.innerHTML = docLinkHtml;\n",
              "        element.appendChild(docLink);\n",
              "      }\n",
              "    </script>\n",
              "  </div>\n",
              "\n",
              "\n",
              "    <div id=\"df-201e117f-7aa9-40ff-bef6-ac79387ffa19\">\n",
              "      <button class=\"colab-df-quickchart\" onclick=\"quickchart('df-201e117f-7aa9-40ff-bef6-ac79387ffa19')\"\n",
              "                title=\"Suggest charts\"\n",
              "                style=\"display:none;\">\n",
              "\n",
              "<svg xmlns=\"http://www.w3.org/2000/svg\" height=\"24px\"viewBox=\"0 0 24 24\"\n",
              "     width=\"24px\">\n",
              "    <g>\n",
              "        <path d=\"M19 3H5c-1.1 0-2 .9-2 2v14c0 1.1.9 2 2 2h14c1.1 0 2-.9 2-2V5c0-1.1-.9-2-2-2zM9 17H7v-7h2v7zm4 0h-2V7h2v10zm4 0h-2v-4h2v4z\"/>\n",
              "    </g>\n",
              "</svg>\n",
              "      </button>\n",
              "\n",
              "<style>\n",
              "  .colab-df-quickchart {\n",
              "      --bg-color: #E8F0FE;\n",
              "      --fill-color: #1967D2;\n",
              "      --hover-bg-color: #E2EBFA;\n",
              "      --hover-fill-color: #174EA6;\n",
              "      --disabled-fill-color: #AAA;\n",
              "      --disabled-bg-color: #DDD;\n",
              "  }\n",
              "\n",
              "  [theme=dark] .colab-df-quickchart {\n",
              "      --bg-color: #3B4455;\n",
              "      --fill-color: #D2E3FC;\n",
              "      --hover-bg-color: #434B5C;\n",
              "      --hover-fill-color: #FFFFFF;\n",
              "      --disabled-bg-color: #3B4455;\n",
              "      --disabled-fill-color: #666;\n",
              "  }\n",
              "\n",
              "  .colab-df-quickchart {\n",
              "    background-color: var(--bg-color);\n",
              "    border: none;\n",
              "    border-radius: 50%;\n",
              "    cursor: pointer;\n",
              "    display: none;\n",
              "    fill: var(--fill-color);\n",
              "    height: 32px;\n",
              "    padding: 0;\n",
              "    width: 32px;\n",
              "  }\n",
              "\n",
              "  .colab-df-quickchart:hover {\n",
              "    background-color: var(--hover-bg-color);\n",
              "    box-shadow: 0 1px 2px rgba(60, 64, 67, 0.3), 0 1px 3px 1px rgba(60, 64, 67, 0.15);\n",
              "    fill: var(--button-hover-fill-color);\n",
              "  }\n",
              "\n",
              "  .colab-df-quickchart-complete:disabled,\n",
              "  .colab-df-quickchart-complete:disabled:hover {\n",
              "    background-color: var(--disabled-bg-color);\n",
              "    fill: var(--disabled-fill-color);\n",
              "    box-shadow: none;\n",
              "  }\n",
              "\n",
              "  .colab-df-spinner {\n",
              "    border: 2px solid var(--fill-color);\n",
              "    border-color: transparent;\n",
              "    border-bottom-color: var(--fill-color);\n",
              "    animation:\n",
              "      spin 1s steps(1) infinite;\n",
              "  }\n",
              "\n",
              "  @keyframes spin {\n",
              "    0% {\n",
              "      border-color: transparent;\n",
              "      border-bottom-color: var(--fill-color);\n",
              "      border-left-color: var(--fill-color);\n",
              "    }\n",
              "    20% {\n",
              "      border-color: transparent;\n",
              "      border-left-color: var(--fill-color);\n",
              "      border-top-color: var(--fill-color);\n",
              "    }\n",
              "    30% {\n",
              "      border-color: transparent;\n",
              "      border-left-color: var(--fill-color);\n",
              "      border-top-color: var(--fill-color);\n",
              "      border-right-color: var(--fill-color);\n",
              "    }\n",
              "    40% {\n",
              "      border-color: transparent;\n",
              "      border-right-color: var(--fill-color);\n",
              "      border-top-color: var(--fill-color);\n",
              "    }\n",
              "    60% {\n",
              "      border-color: transparent;\n",
              "      border-right-color: var(--fill-color);\n",
              "    }\n",
              "    80% {\n",
              "      border-color: transparent;\n",
              "      border-right-color: var(--fill-color);\n",
              "      border-bottom-color: var(--fill-color);\n",
              "    }\n",
              "    90% {\n",
              "      border-color: transparent;\n",
              "      border-bottom-color: var(--fill-color);\n",
              "    }\n",
              "  }\n",
              "</style>\n",
              "\n",
              "      <script>\n",
              "        async function quickchart(key) {\n",
              "          const quickchartButtonEl =\n",
              "            document.querySelector('#' + key + ' button');\n",
              "          quickchartButtonEl.disabled = true;  // To prevent multiple clicks.\n",
              "          quickchartButtonEl.classList.add('colab-df-spinner');\n",
              "          try {\n",
              "            const charts = await google.colab.kernel.invokeFunction(\n",
              "                'suggestCharts', [key], {});\n",
              "          } catch (error) {\n",
              "            console.error('Error during call to suggestCharts:', error);\n",
              "          }\n",
              "          quickchartButtonEl.classList.remove('colab-df-spinner');\n",
              "          quickchartButtonEl.classList.add('colab-df-quickchart-complete');\n",
              "        }\n",
              "        (() => {\n",
              "          let quickchartButtonEl =\n",
              "            document.querySelector('#df-201e117f-7aa9-40ff-bef6-ac79387ffa19 button');\n",
              "          quickchartButtonEl.style.display =\n",
              "            google.colab.kernel.accessAllowed ? 'block' : 'none';\n",
              "        })();\n",
              "      </script>\n",
              "    </div>\n",
              "\n",
              "    </div>\n",
              "  </div>\n"
            ],
            "application/vnd.google.colaboratory.intrinsic+json": {
              "type": "dataframe",
              "summary": "{\n  \"name\": \"base[base\",\n  \"rows\": 19,\n  \"fields\": [\n    {\n      \"column\": \"Id\",\n      \"properties\": {\n        \"dtype\": \"number\",\n        \"std\": 27,\n        \"min\": 15,\n        \"max\": 97,\n        \"num_unique_values\": 19,\n        \"samples\": [\n          15,\n          29,\n          68\n        ],\n        \"semantic_type\": \"\",\n        \"description\": \"\"\n      }\n    },\n    {\n      \"column\": \"Grau de Felicidade (0-10)\",\n      \"properties\": {\n        \"dtype\": \"number\",\n        \"std\": 1.6318720954620534,\n        \"min\": 5.0,\n        \"max\": 9.4,\n        \"num_unique_values\": 9,\n        \"samples\": [\n          9.4,\n          7.1,\n          9.3\n        ],\n        \"semantic_type\": \"\",\n        \"description\": \"\"\n      }\n    },\n    {\n      \"column\": \"Idade\",\n      \"properties\": {\n        \"dtype\": \"number\",\n        \"std\": 15.567059238447488,\n        \"min\": 28.0,\n        \"max\": 70.0,\n        \"num_unique_values\": 6,\n        \"samples\": [\n          30.0,\n          45.0,\n          58.0\n        ],\n        \"semantic_type\": \"\",\n        \"description\": \"\"\n      }\n    },\n    {\n      \"column\": \"Tipo de Alimenta\\u00e7\\u00e3o\",\n      \"properties\": {\n        \"dtype\": \"category\",\n        \"num_unique_values\": 3,\n        \"samples\": [\n          \"Vegana\",\n          \"On\\u00edvora\",\n          \"Pescetariana\"\n        ],\n        \"semantic_type\": \"\",\n        \"description\": \"\"\n      }\n    },\n    {\n      \"column\": \"Expectativa de Vida\",\n      \"properties\": {\n        \"dtype\": \"number\",\n        \"std\": 48.14170939015913,\n        \"min\": -10.0,\n        \"max\": 145.0,\n        \"num_unique_values\": 11,\n        \"samples\": [\n          100.0,\n          50.0,\n          140.0\n        ],\n        \"semantic_type\": \"\",\n        \"description\": \"\"\n      }\n    }\n  ]\n}"
            }
          },
          "metadata": {},
          "execution_count": 18
        }
      ]
    },
    {
      "cell_type": "code",
      "source": [
        "import seaborn as sns\n",
        "import matplotlib.pyplot as plt"
      ],
      "metadata": {
        "id": "YclMBMio0oY_"
      },
      "execution_count": 19,
      "outputs": []
    },
    {
      "cell_type": "code",
      "source": [
        "#Preparando os valores\n",
        "dados = base['PetalLengthCm']\n",
        "\n",
        "# Definindo as dimensões e plotando o boxplot\n",
        "plt.figure(figsize=(8, 6))\n",
        "boxplot_dict = sns.boxplot(dados)\n",
        "\n",
        "plt.title('Boxplot da análise de Felicidade')\n",
        "plt.xlabel('Conjunto de dados')\n",
        "plt.ylabel('Valores')\n",
        "plt.grid(True)\n",
        "\n",
        "\n",
        "# Obtem eixos do gráfico ANTES DE MOSTRAR O GRÁFICO\n",
        "ax = plt.gca()\n",
        "\n",
        "# Acessa as linhas que representam whiskers (limites) and quartis\n",
        "lines = ax.get_lines()\n",
        "# As linhas são:\n",
        "# 0: limite inferior, 1: limite inferior, 2: mediana\n",
        "\n",
        "\n",
        "plt.show() # Mostrando o gráfico APÓS obter as linhas\n",
        "\n",
        "prim_quartil = lines[0].get_ydata()[0]\n",
        "terc_quartil = lines[1].get_ydata()[0]\n",
        "lim_inf_premio = lines[0].get_ydata()[1]\n",
        "lim_sup_premio = lines[1].get_ydata()[1]\n",
        "mediana_premio = lines[2].get_ydata()[1]\n",
        "\n",
        "print(\"Limite superior do boxplot:\", lim_sup_premio)\n",
        "print(\"3o quartil do boxplot:\", terc_quartil)\n",
        "print(\"Mediana do primeiro conjunto de dados:\", mediana_premio)\n",
        "print(\"1o quartil do boxplot:\", prim_quartil)\n",
        "print(\"Limite inferior do boxplot:\", lim_inf_premio)"
      ],
      "metadata": {
        "colab": {
          "base_uri": "https://localhost:8080/",
          "height": 634
        },
        "id": "VenCpo7T0p5m",
        "outputId": "c20ecf0c-3acf-4949-f19a-c0f58d45e4af"
      },
      "execution_count": 20,
      "outputs": [
        {
          "output_type": "error",
          "ename": "KeyError",
          "evalue": "'PetalLengthCm'",
          "traceback": [
            "\u001b[0;31m---------------------------------------------------------------------------\u001b[0m",
            "\u001b[0;31mKeyError\u001b[0m                                  Traceback (most recent call last)",
            "\u001b[0;32m/usr/local/lib/python3.12/dist-packages/pandas/core/indexes/base.py\u001b[0m in \u001b[0;36mget_loc\u001b[0;34m(self, key)\u001b[0m\n\u001b[1;32m   3804\u001b[0m         \u001b[0;32mtry\u001b[0m\u001b[0;34m:\u001b[0m\u001b[0;34m\u001b[0m\u001b[0;34m\u001b[0m\u001b[0m\n\u001b[0;32m-> 3805\u001b[0;31m             \u001b[0;32mreturn\u001b[0m \u001b[0mself\u001b[0m\u001b[0;34m.\u001b[0m\u001b[0m_engine\u001b[0m\u001b[0;34m.\u001b[0m\u001b[0mget_loc\u001b[0m\u001b[0;34m(\u001b[0m\u001b[0mcasted_key\u001b[0m\u001b[0;34m)\u001b[0m\u001b[0;34m\u001b[0m\u001b[0;34m\u001b[0m\u001b[0m\n\u001b[0m\u001b[1;32m   3806\u001b[0m         \u001b[0;32mexcept\u001b[0m \u001b[0mKeyError\u001b[0m \u001b[0;32mas\u001b[0m \u001b[0merr\u001b[0m\u001b[0;34m:\u001b[0m\u001b[0;34m\u001b[0m\u001b[0;34m\u001b[0m\u001b[0m\n",
            "\u001b[0;32mindex.pyx\u001b[0m in \u001b[0;36mpandas._libs.index.IndexEngine.get_loc\u001b[0;34m()\u001b[0m\n",
            "\u001b[0;32mindex.pyx\u001b[0m in \u001b[0;36mpandas._libs.index.IndexEngine.get_loc\u001b[0;34m()\u001b[0m\n",
            "\u001b[0;32mpandas/_libs/hashtable_class_helper.pxi\u001b[0m in \u001b[0;36mpandas._libs.hashtable.PyObjectHashTable.get_item\u001b[0;34m()\u001b[0m\n",
            "\u001b[0;32mpandas/_libs/hashtable_class_helper.pxi\u001b[0m in \u001b[0;36mpandas._libs.hashtable.PyObjectHashTable.get_item\u001b[0;34m()\u001b[0m\n",
            "\u001b[0;31mKeyError\u001b[0m: 'PetalLengthCm'",
            "\nThe above exception was the direct cause of the following exception:\n",
            "\u001b[0;31mKeyError\u001b[0m                                  Traceback (most recent call last)",
            "\u001b[0;32m/tmp/ipython-input-4208119893.py\u001b[0m in \u001b[0;36m<cell line: 0>\u001b[0;34m()\u001b[0m\n\u001b[1;32m      1\u001b[0m \u001b[0;31m#Preparando os valores\u001b[0m\u001b[0;34m\u001b[0m\u001b[0;34m\u001b[0m\u001b[0m\n\u001b[0;32m----> 2\u001b[0;31m \u001b[0mdados\u001b[0m \u001b[0;34m=\u001b[0m \u001b[0mbase\u001b[0m\u001b[0;34m[\u001b[0m\u001b[0;34m'PetalLengthCm'\u001b[0m\u001b[0;34m]\u001b[0m\u001b[0;34m\u001b[0m\u001b[0;34m\u001b[0m\u001b[0m\n\u001b[0m\u001b[1;32m      3\u001b[0m \u001b[0;34m\u001b[0m\u001b[0m\n\u001b[1;32m      4\u001b[0m \u001b[0;31m# Definindo as dimensões e plotando o boxplot\u001b[0m\u001b[0;34m\u001b[0m\u001b[0;34m\u001b[0m\u001b[0m\n\u001b[1;32m      5\u001b[0m \u001b[0mplt\u001b[0m\u001b[0;34m.\u001b[0m\u001b[0mfigure\u001b[0m\u001b[0;34m(\u001b[0m\u001b[0mfigsize\u001b[0m\u001b[0;34m=\u001b[0m\u001b[0;34m(\u001b[0m\u001b[0;36m8\u001b[0m\u001b[0;34m,\u001b[0m \u001b[0;36m6\u001b[0m\u001b[0;34m)\u001b[0m\u001b[0;34m)\u001b[0m\u001b[0;34m\u001b[0m\u001b[0;34m\u001b[0m\u001b[0m\n",
            "\u001b[0;32m/usr/local/lib/python3.12/dist-packages/pandas/core/frame.py\u001b[0m in \u001b[0;36m__getitem__\u001b[0;34m(self, key)\u001b[0m\n\u001b[1;32m   4100\u001b[0m             \u001b[0;32mif\u001b[0m \u001b[0mself\u001b[0m\u001b[0;34m.\u001b[0m\u001b[0mcolumns\u001b[0m\u001b[0;34m.\u001b[0m\u001b[0mnlevels\u001b[0m \u001b[0;34m>\u001b[0m \u001b[0;36m1\u001b[0m\u001b[0;34m:\u001b[0m\u001b[0;34m\u001b[0m\u001b[0;34m\u001b[0m\u001b[0m\n\u001b[1;32m   4101\u001b[0m                 \u001b[0;32mreturn\u001b[0m \u001b[0mself\u001b[0m\u001b[0;34m.\u001b[0m\u001b[0m_getitem_multilevel\u001b[0m\u001b[0;34m(\u001b[0m\u001b[0mkey\u001b[0m\u001b[0;34m)\u001b[0m\u001b[0;34m\u001b[0m\u001b[0;34m\u001b[0m\u001b[0m\n\u001b[0;32m-> 4102\u001b[0;31m             \u001b[0mindexer\u001b[0m \u001b[0;34m=\u001b[0m \u001b[0mself\u001b[0m\u001b[0;34m.\u001b[0m\u001b[0mcolumns\u001b[0m\u001b[0;34m.\u001b[0m\u001b[0mget_loc\u001b[0m\u001b[0;34m(\u001b[0m\u001b[0mkey\u001b[0m\u001b[0;34m)\u001b[0m\u001b[0;34m\u001b[0m\u001b[0;34m\u001b[0m\u001b[0m\n\u001b[0m\u001b[1;32m   4103\u001b[0m             \u001b[0;32mif\u001b[0m \u001b[0mis_integer\u001b[0m\u001b[0;34m(\u001b[0m\u001b[0mindexer\u001b[0m\u001b[0;34m)\u001b[0m\u001b[0;34m:\u001b[0m\u001b[0;34m\u001b[0m\u001b[0;34m\u001b[0m\u001b[0m\n\u001b[1;32m   4104\u001b[0m                 \u001b[0mindexer\u001b[0m \u001b[0;34m=\u001b[0m \u001b[0;34m[\u001b[0m\u001b[0mindexer\u001b[0m\u001b[0;34m]\u001b[0m\u001b[0;34m\u001b[0m\u001b[0;34m\u001b[0m\u001b[0m\n",
            "\u001b[0;32m/usr/local/lib/python3.12/dist-packages/pandas/core/indexes/base.py\u001b[0m in \u001b[0;36mget_loc\u001b[0;34m(self, key)\u001b[0m\n\u001b[1;32m   3810\u001b[0m             ):\n\u001b[1;32m   3811\u001b[0m                 \u001b[0;32mraise\u001b[0m \u001b[0mInvalidIndexError\u001b[0m\u001b[0;34m(\u001b[0m\u001b[0mkey\u001b[0m\u001b[0;34m)\u001b[0m\u001b[0;34m\u001b[0m\u001b[0;34m\u001b[0m\u001b[0m\n\u001b[0;32m-> 3812\u001b[0;31m             \u001b[0;32mraise\u001b[0m \u001b[0mKeyError\u001b[0m\u001b[0;34m(\u001b[0m\u001b[0mkey\u001b[0m\u001b[0;34m)\u001b[0m \u001b[0;32mfrom\u001b[0m \u001b[0merr\u001b[0m\u001b[0;34m\u001b[0m\u001b[0;34m\u001b[0m\u001b[0m\n\u001b[0m\u001b[1;32m   3813\u001b[0m         \u001b[0;32mexcept\u001b[0m \u001b[0mTypeError\u001b[0m\u001b[0;34m:\u001b[0m\u001b[0;34m\u001b[0m\u001b[0;34m\u001b[0m\u001b[0m\n\u001b[1;32m   3814\u001b[0m             \u001b[0;31m# If we have a listlike key, _check_indexing_error will raise\u001b[0m\u001b[0;34m\u001b[0m\u001b[0;34m\u001b[0m\u001b[0m\n",
            "\u001b[0;31mKeyError\u001b[0m: 'PetalLengthCm'"
          ]
        }
      ]
    },
    {
      "cell_type": "code",
      "source": [
        "#Preparando os valores\n",
        "dados = base['PetalWidthCm']\n",
        "\n",
        "# Definindo as dimensões e plotando o boxplot\n",
        "plt.figure(figsize=(8, 6))\n",
        "boxplot_dict = sns.boxplot(dados)\n",
        "\n",
        "plt.title('Boxplot da análise de Felicidade')\n",
        "plt.xlabel('Conjunto de dados')\n",
        "plt.ylabel('Valores')\n",
        "plt.grid(True)\n",
        "\n",
        "\n",
        "# Obtem eixos do gráfico ANTES DE MOSTRAR O GRÁFICO\n",
        "ax = plt.gca()\n",
        "\n",
        "# Acessa as linhas que representam whiskers (limites) and quartis\n",
        "lines = ax.get_lines()\n",
        "# As linhas são:\n",
        "# 0: limite inferior, 1: limite inferior, 2: mediana\n",
        "\n",
        "\n",
        "plt.show() # Mostrando o gráfico APÓS obter as linhas\n",
        "\n",
        "prim_quartil = lines[0].get_ydata()[0]\n",
        "terc_quartil = lines[1].get_ydata()[0]\n",
        "lim_inf_premio = lines[0].get_ydata()[1]\n",
        "lim_sup_premio = lines[1].get_ydata()[1]\n",
        "mediana_premio = lines[2].get_ydata()[1]\n",
        "\n",
        "print(\"Limite superior do boxplot:\", lim_sup_premio)\n",
        "print(\"3o quartil do boxplot:\", terc_quartil)\n",
        "print(\"Mediana do primeiro conjunto de dados:\", mediana_premio)\n",
        "print(\"1o quartil do boxplot:\", prim_quartil)\n",
        "print(\"Limite inferior do boxplot:\", lim_inf_premio)"
      ],
      "metadata": {
        "id": "-BpqErMg0sNb"
      },
      "execution_count": null,
      "outputs": []
    },
    {
      "cell_type": "code",
      "source": [
        "#Preparando os valores\n",
        "dados = base['SepalWidthCm']\n",
        "\n",
        "# Definindo as dimensões e plotando o boxplot\n",
        "plt.figure(figsize=(8, 6))\n",
        "boxplot_dict = sns.boxplot(dados)\n",
        "\n",
        "plt.title('Boxplot da análise de Felicidade')\n",
        "plt.xlabel('Conjunto de dados')\n",
        "plt.ylabel('Valores')\n",
        "plt.grid(True)\n",
        "\n",
        "\n",
        "# Obtem eixos do gráfico ANTES DE MOSTRAR O GRÁFICO\n",
        "ax = plt.gca()\n",
        "\n",
        "# Acessa as linhas que representam whiskers (limites) and quartis\n",
        "lines = ax.get_lines()\n",
        "# As linhas são:\n",
        "# 0: limite inferior, 1: limite inferior, 2: mediana\n",
        "\n",
        "\n",
        "plt.show() # Mostrando o gráfico APÓS obter as linhas\n",
        "\n",
        "prim_quartil = lines[0].get_ydata()[0]\n",
        "terc_quartil = lines[1].get_ydata()[0]\n",
        "lim_inf_premio = lines[0].get_ydata()[1]\n",
        "lim_sup_premio = lines[1].get_ydata()[1]\n",
        "mediana_premio = lines[2].get_ydata()[1]\n",
        "\n",
        "print(\"Limite superior do boxplot:\", lim_sup_premio)\n",
        "print(\"3o quartil do boxplot:\", terc_quartil)\n",
        "print(\"Mediana do primeiro conjunto de dados:\", mediana_premio)\n",
        "print(\"1o quartil do boxplot:\", prim_quartil)\n",
        "print(\"Limite inferior do boxplot:\", lim_inf_premio)"
      ],
      "metadata": {
        "id": "T2dW-Lcs0vhE"
      },
      "execution_count": null,
      "outputs": []
    },
    {
      "cell_type": "code",
      "source": [
        "#Preparando os valores\n",
        "dados = base['SepalLengthCm']\n",
        "\n",
        "# Definindo as dimensões e plotando o boxplot\n",
        "plt.figure(figsize=(8, 6))\n",
        "boxplot_dict = sns.boxplot(dados)\n",
        "\n",
        "plt.title('Boxplot da análise de Felicidade')\n",
        "plt.xlabel('Conjunto de dados')\n",
        "plt.ylabel('Valores')\n",
        "plt.grid(True)\n",
        "\n",
        "\n",
        "# Obtem eixos do gráfico ANTES DE MOSTRAR O GRÁFICO\n",
        "ax = plt.gca()\n",
        "\n",
        "# Acessa as linhas que representam whiskers (limites) and quartis\n",
        "lines = ax.get_lines()\n",
        "# As linhas são:\n",
        "# 0: limite inferior, 1: limite inferior, 2: mediana\n",
        "\n",
        "\n",
        "plt.show() # Mostrando o gráfico APÓS obter as linhas\n",
        "\n",
        "prim_quartil = lines[0].get_ydata()[0]\n",
        "terc_quartil = lines[1].get_ydata()[0]\n",
        "lim_inf_premio = lines[0].get_ydata()[1]\n",
        "lim_sup_premio = lines[1].get_ydata()[1]\n",
        "mediana_premio = lines[2].get_ydata()[1]\n",
        "\n",
        "print(\"Limite superior do boxplot:\", lim_sup_premio)\n",
        "print(\"3o quartil do boxplot:\", terc_quartil)\n",
        "print(\"Mediana do primeiro conjunto de dados:\", mediana_premio)\n",
        "print(\"1o quartil do boxplot:\", prim_quartil)\n",
        "print(\"Limite inferior do boxplot:\", lim_inf_premio)"
      ],
      "metadata": {
        "id": "FrmONf6y0xpp"
      },
      "execution_count": null,
      "outputs": []
    },
    {
      "cell_type": "code",
      "source": [
        "base=base.dropna()"
      ],
      "metadata": {
        "id": "H3tSzAW-0zva"
      },
      "execution_count": null,
      "outputs": []
    },
    {
      "cell_type": "code",
      "source": [
        "base.describe()"
      ],
      "metadata": {
        "id": "VEMY7JbX02JA"
      },
      "execution_count": null,
      "outputs": []
    },
    {
      "cell_type": "code",
      "source": [
        "#separar os dados de entrada e saida\n",
        "X_entrada = base.iloc[:,1:5].values\n",
        "y_saida = base.iloc[:, 5].values"
      ],
      "metadata": {
        "id": "9Qt4aOYi04Hc"
      },
      "execution_count": null,
      "outputs": []
    },
    {
      "cell_type": "code",
      "source": [
        "X_entrada"
      ],
      "metadata": {
        "id": "5vlzfa4505tS"
      },
      "execution_count": null,
      "outputs": []
    },
    {
      "cell_type": "code",
      "source": [
        "y_saida"
      ],
      "metadata": {
        "id": "ik3LJeY008Mx"
      },
      "execution_count": null,
      "outputs": []
    },
    {
      "cell_type": "code",
      "source": [
        "# necessário para o histograma\n",
        "import seaborn as sns\n",
        "import matplotlib.pyplot as plt\n",
        "# Distribuição das variáveis\n",
        "sns.histplot(base[\"Species\"])"
      ],
      "metadata": {
        "id": "wQP8ohdh0_Uq"
      },
      "execution_count": null,
      "outputs": []
    },
    {
      "cell_type": "code",
      "source": [
        "base=base.dropna()"
      ],
      "metadata": {
        "id": "IflVeQ-F1BgU"
      },
      "execution_count": null,
      "outputs": []
    },
    {
      "cell_type": "code",
      "source": [
        "from imblearn.over_sampling import SMOTE\n",
        "import pandas as pd\n",
        "\n",
        "# Separando features e target\n",
        "X = base.drop(columns=['Species'])  # Todas as colunas exceto Species\n",
        "y = base['Species']  # A coluna que queremos balancear\n",
        "\n",
        "# Aplicando SMOTE para aumentar a quantidade de linhas das classes\n",
        "# Iris-versicolor e Iris-virginica com a finalidade de balancear\n",
        "# a quantidade de cada classe\n",
        "smote = SMOTE(sampling_strategy='auto', random_state=42)\n",
        "X_resampled, y_resampled = smote.fit_resample(X, y)\n",
        "\n",
        "# Criando um novo DataFrame balanceado\n",
        "df_balanced = pd.DataFrame(X_resampled, columns=X.columns)\n",
        "df_balanced['Species'] = y_resampled  # Adicionando a coluna Species de volta\n",
        "\n",
        "# Verificando a distribuição após o balanceamento\n",
        "print(df_balanced['Species'].value_counts())"
      ],
      "metadata": {
        "id": "2fXTl5xI1DSi"
      },
      "execution_count": null,
      "outputs": []
    },
    {
      "cell_type": "code",
      "source": [
        "# Distribuição das variáveis\n",
        "sns.histplot(df_balanced[\"Species\"])"
      ],
      "metadata": {
        "id": "gl7GQdXt1Gnp"
      },
      "execution_count": null,
      "outputs": []
    },
    {
      "cell_type": "code",
      "source": [
        "#padronizar df_balanced colunas 1 a 4\n",
        "from sklearn.preprocessing import StandardScaler\n",
        "scaler = StandardScaler()\n",
        "df_balanced.iloc[:, 1:5] = scaler.fit_transform(df_balanced.iloc[:, 1:5])"
      ],
      "metadata": {
        "id": "ayaeG78e1IIc"
      },
      "execution_count": null,
      "outputs": []
    },
    {
      "cell_type": "code",
      "source": [
        "from sklearn.model_selection import train_test_split"
      ],
      "metadata": {
        "id": "a6WAxeEc1KKp"
      },
      "execution_count": null,
      "outputs": []
    },
    {
      "cell_type": "code",
      "source": [
        "# Separando features e target\n",
        "X_under = base.drop(columns=['Species'])  # Todas as colunas exceto Species\n",
        "y_under = base['Species']  # A coluna que queremos balancear\n",
        "\n",
        "\n",
        "# dividir o dataset entre treino e validação\n",
        "X_train, X_test, y_train, y_test = train_test_split(X_under, y_under, stratify=y, shuffle=True, test_size = 0.15)\n",
        "# importar as bibliotecas necessárias\n",
        "from imblearn.under_sampling import RandomUnderSampler\n",
        "# criando uma instância do RandomUnderSampling para reduzir a quantidade de linhas\n",
        "# das classes Iris-versicolor e Iris-virginica para balancear a quantidade de dados\n",
        "rus = RandomUnderSampler(random_state=42, sampling_strategy = 'majority')\n",
        "# balanceando os dados\n",
        "X_res, y_res = rus.fit_resample(X_train, y_train)"
      ],
      "metadata": {
        "id": "grex5CjX1Lhp"
      },
      "execution_count": null,
      "outputs": []
    },
    {
      "cell_type": "code",
      "source": [
        "y_res.value_counts()"
      ],
      "metadata": {
        "id": "9h0tVZ9i1N_w"
      },
      "execution_count": null,
      "outputs": []
    },
    {
      "cell_type": "code",
      "source": [
        "from sklearn.model_selection import train_test_split"
      ],
      "metadata": {
        "id": "bdyTtYyn1Pbf"
      },
      "execution_count": null,
      "outputs": []
    },
    {
      "cell_type": "code",
      "source": [
        "df_balanced.columns"
      ],
      "metadata": {
        "id": "a4uAjbfi1Q5q"
      },
      "execution_count": null,
      "outputs": []
    },
    {
      "cell_type": "code",
      "source": [
        "#separar os dados de entrada e saída\n",
        "X_entrada = df_balanced.iloc[:,1:5].values\n",
        "y_saida = df_balanced.iloc[:,5].values"
      ],
      "metadata": {
        "id": "Kws6qX5N1UnZ"
      },
      "execution_count": null,
      "outputs": []
    },
    {
      "cell_type": "code",
      "source": [
        "# Separar os dados em conjunto de treino e teste\n",
        "X_train, X_test, y_train, y_test = train_test_split(X_entrada, y_saida, test_size=0.3, random_state=42,\n",
        "                                                    shuffle=True, stratify=y_saida)"
      ],
      "metadata": {
        "id": "iHZk_JPr1WHO"
      },
      "execution_count": null,
      "outputs": []
    },
    {
      "cell_type": "code",
      "source": [
        "from sklearn.neural_network import MLPClassifier"
      ],
      "metadata": {
        "id": "WSqIWpGn1Xb9"
      },
      "execution_count": null,
      "outputs": []
    },
    {
      "cell_type": "markdown",
      "source": [
        "Épocas (epochs) referem-se ao número de vezes que todo o conjunto de dados de treinamento é passado pela rede neural durante o processo de treinamento. Na mensagem \"Stochastic Optimizer: Maximum iterations (200) reached and the optimization hasn't converged yet.\" significa que em 200 épocas (padrão) o algoritmo de otimização dos pesos não conseguiu convergir para o resultado, então o programador precisa definir um valor maior para as épocas. O algoritmo padrão para otimização é o adam, algoritmo com melhor resultado para dados complexos.\n",
        "\n",
        "Função Ativação\n",
        "‘identity’, ativação no-op, útil para implementar gargalo linear, retorna f(x) = x. (camada de saída)\n",
        "\n",
        "‘logistic’, a função sigmóide logística retorna f(x) = 1 / (1 + exp(-x)). (classificação binária)\n",
        "\n",
        "‘tanh’, a função tan hiperbólica, retorna f(x) = tanh(x). (saídas centradas em zero)\n",
        "\n",
        "‘relu’, a função de unidade linear retificada, retorna f(x) = max(0, x). (saídas a partir de zero)"
      ],
      "metadata": {
        "id": "p1i2w4FO1e0R"
      }
    },
    {
      "cell_type": "code",
      "source": [
        "mlp = MLPClassifier(max_iter=1000, verbose = True, hidden_layer_sizes=(8), activation='logistic', solver='adam', random_state=42)"
      ],
      "metadata": {
        "id": "KYvxAeEy1iDM"
      },
      "execution_count": null,
      "outputs": []
    },
    {
      "cell_type": "code",
      "source": [
        "mlp.fit(X_train, y_train)"
      ],
      "metadata": {
        "id": "0N-xoWqH1jj1"
      },
      "execution_count": null,
      "outputs": []
    },
    {
      "cell_type": "code",
      "source": [
        "#definir a quantidade de dobras\n",
        "kfold = StratifiedKFold(n_splits=5, shuffle=True, random_state=42)\n",
        "#realizar a validação cruzada\n",
        "scores = cross_val_score(mlp, X_entrada, y_saida, cv=kfold)\n",
        "print(\"Acurácia média: {:.2f}%\".format(scores.mean() * 100))\n",
        "print(\"Desvio padrão: {:.2f}%\".format(scores.std() * 100))\n",
        "print(\"Acurácia: \",scores)"
      ],
      "metadata": {
        "id": "pRKw2KgU1mzm"
      },
      "execution_count": null,
      "outputs": []
    },
    {
      "cell_type": "code",
      "source": [
        "from sklearn.metrics import accuracy_score"
      ],
      "metadata": {
        "id": "S8iKtiIq1waI"
      },
      "execution_count": null,
      "outputs": []
    },
    {
      "cell_type": "code",
      "source": [
        "y_pred = mlp.predict(X_train)"
      ],
      "metadata": {
        "id": "FMpi0Fy_1x7K"
      },
      "execution_count": null,
      "outputs": []
    },
    {
      "cell_type": "code",
      "source": [
        "y_train"
      ],
      "metadata": {
        "id": "ohThu7Nj1za6"
      },
      "execution_count": null,
      "outputs": []
    },
    {
      "cell_type": "code",
      "source": [
        "y_pred"
      ],
      "metadata": {
        "id": "D-UXuAH9111O"
      },
      "execution_count": null,
      "outputs": []
    },
    {
      "cell_type": "code",
      "source": [
        "score = accuracy_score(y_train, y_pred)\n",
        "print(\"Acurácia do modelo:\", (score*100))"
      ],
      "metadata": {
        "id": "AVw68rM914VV"
      },
      "execution_count": null,
      "outputs": []
    },
    {
      "cell_type": "code",
      "source": [
        "y_pred = mlp.predict(X_test)"
      ],
      "metadata": {
        "id": "vu3UB9Vq155Y"
      },
      "execution_count": null,
      "outputs": []
    },
    {
      "cell_type": "code",
      "source": [
        "score = accuracy_score(y_test, y_pred)\n",
        "print(\"Acurácia do modelo:\", score)"
      ],
      "metadata": {
        "id": "EtgDH_-N17fe"
      },
      "execution_count": null,
      "outputs": []
    },
    {
      "cell_type": "code",
      "source": [
        "#salvar o scaler da padronização usando joblib\n",
        "import joblib\n",
        "joblib.dump(scaler, '/content/drive/MyDrive/dados/scaler.pkl')\n",
        "\n",
        "#salvar o modelo de rede neural mlp\n",
        "joblib.dump(mlp, '/content/drive/MyDrive/dados/mlpIris.pkl')"
      ],
      "metadata": {
        "id": "fARn6rgb19bv"
      },
      "execution_count": null,
      "outputs": []
    },
    {
      "cell_type": "code",
      "source": [
        "#abrir a padronização scaler\n",
        "scaler = joblib.load('/content/drive/MyDrive/dados/scaler.pkl')\n",
        "\n",
        "#aplicar a padronização scaler a [6.3, 2.3, 4.4, 1.3]\n",
        "nova_amostra = scaler.transform([[6.3, 2.3, 4.4, 1.3]])\n",
        "\n",
        "#abrir o modelo de rede neural\n",
        "mlp = joblib.load('/content/drive/MyDrive/dados/mlpIris.pkl')\n",
        "\n",
        "#fazer a predição\n",
        "predicao = mlp.predict(nova_amostra)\n",
        "\n",
        "#imprimir a predição\n",
        "print(predicao)"
      ],
      "metadata": {
        "id": "bLD5j9El1-7J"
      },
      "execution_count": null,
      "outputs": []
    },
    {
      "cell_type": "code",
      "source": [
        "base.columns"
      ],
      "metadata": {
        "id": "UMYs0b3F2Bm8"
      },
      "execution_count": null,
      "outputs": []
    },
    {
      "cell_type": "code",
      "source": [
        "from sklearn.ensemble import RandomForestClassifier\n",
        "\n",
        "# Modelo Random Forest\n",
        "'''\n",
        "Uma floresta aleatória é um metaestimador que ajusta uma série de classificadores de árvores de decisão\n",
        "em várias subamostras do conjunto de dados e usa a média para melhorar a precisão preditiva e controlar\n",
        "o sobreajuste. (Fonte: https://scikit-learn.org/stable/modules/generated/sklearn.ensemble.RandomForestClassifier.html)\n",
        "'''\n",
        "rf_model = RandomForestClassifier(n_estimators=100, criterion=\"entropy\")\n",
        "rf_model.fit(X_train, y_train)\n",
        "rf_preds = rf_model.predict(X_test)\n",
        "\n",
        "# Avaliação\n",
        "print(\"=== Random Forest ===\")\n",
        "print(\"Acurácia:\", accuracy_score(y_test, rf_preds))"
      ],
      "metadata": {
        "id": "sT8ylkN62DiH"
      },
      "execution_count": null,
      "outputs": []
    },
    {
      "cell_type": "code",
      "source": [
        "from sklearn.tree import plot_tree\n",
        "import matplotlib.pyplot as plt\n",
        "\n",
        "arvore = rf_model.estimators_[0]\n",
        "\n",
        "# Plot the decision tree\n",
        "plt.figure(figsize=(20, 10))\n",
        "colunas = base.columns[1:5].tolist()\n",
        "plot_tree(arvore, feature_names=colunas, filled=True, rounded=True, fontsize=10)\n",
        "plt.title(\"Decision Tree from Random Forest\")\n",
        "plt.show()"
      ],
      "metadata": {
        "id": "cRVPeN0j2FV9"
      },
      "execution_count": null,
      "outputs": []
    },
    {
      "cell_type": "code",
      "source": [
        "rf_scores = cross_val_score(rf_model, X_entrada, y_saida, cv=kfold)\n",
        "print(\"Acurácia média: {:.2f}%\".format(rf_scores.mean() * 100))\n",
        "print(\"Desvio padrão: {:.2f}%\".format(rf_scores.std() * 100))\n",
        "print(\"Acurácia: \",rf_scores)"
      ],
      "metadata": {
        "id": "c2WX6k5M2Hmk"
      },
      "execution_count": null,
      "outputs": []
    },
    {
      "cell_type": "code",
      "source": [
        "precisao = make_scorer(precision_score, average='macro')\n",
        "recall = make_scorer(recall_score, average='macro')\n",
        "rf_validate = cross_validate(rf_model, X_entrada, y_saida,\n",
        "  cv=kfold,scoring={'accuracy':'accuracy','precision':precisao,'recall':recall},\n",
        "  return_train_score=True)\n",
        "df_validate = pd.DataFrame(rf_validate)\n",
        "df_validate"
      ],
      "metadata": {
        "id": "SD38jf3_2I9_"
      },
      "execution_count": null,
      "outputs": []
    },
    {
      "cell_type": "code",
      "source": [
        "from catboost import CatBoostClassifier"
      ],
      "metadata": {
        "id": "T8Vf5jaU2LHh"
      },
      "execution_count": null,
      "outputs": []
    },
    {
      "cell_type": "code",
      "source": [
        "# Modelo CatBoost\n",
        "cb_model = CatBoostClassifier()\n",
        "cb_model.fit(X_train, y_train)\n",
        "cb_preds = cb_model.predict(X_test)\n",
        "\n",
        "print(\"\\n=== CatBoost ===\")\n",
        "print(\"Acurácia:\", accuracy_score(y_test, cb_preds))"
      ],
      "metadata": {
        "id": "dKTxrzA32ML5"
      },
      "execution_count": null,
      "outputs": []
    }
  ]
}